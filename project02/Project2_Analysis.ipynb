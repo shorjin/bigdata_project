{
 "cells": [
  {
   "cell_type": "markdown",
   "id": "73bc9548",
   "metadata": {},
   "source": [
    "# Analysis of IMDB Data"
   ]
  },
  {
   "cell_type": "markdown",
   "id": "4b3da555",
   "metadata": {},
   "source": [
    "We will analyze a subset of IMDB's actors, genres, movie actors, and movie ratings data. This dataset comes to us from Kaggle (https://www.kaggle.com/datasets/ashirwadsangwan/imdb-dataset) although we have taken steps to pull this data into a publis s3 bucket: \n",
    "\n",
    "* s3://cis9760-lecture9-movieanalysis/name.basics.tsv ---> (actors)\n",
    "* s3://cis9760-lecture9-movieanalysis/title.basics.tsv ---> (genres)\n",
    "* s3://cis9760-lecture9-movieanalysis/title.principals.tsv ---> (movie actors)\n",
    "* s3://cis9760-lecture9-movieanalysis/title.ratings.tsv ---> (movie ratings)"
   ]
  },
  {
   "cell_type": "markdown",
   "id": "bfb57a80",
   "metadata": {},
   "source": [
    "# Content\n",
    "\n",
    "**<br />name.basics.tsv.gz – Contains the following information for names:**\n",
    "<br />nconst (string) - alphanumeric unique identifier of the name/person.\n",
    "<br />primaryName (string)– name by which the person is most often credited.\n",
    "<br />birthYear – in YYYY format.\n",
    "<br />deathYear – in YYYY format if applicable, else .\n",
    "<br />primaryProfession (array of strings)– the top-3 professions of the person.\n",
    "<br />knownForTitles (array of tconsts) – titles the person is known for.\n",
    "<br/><br/>\n",
    "**<br />title.basics.tsv.gz - Contains the following information for titles:**\n",
    "<br />tconst (string) - alphanumeric unique identifier of the title.\n",
    "<br />titleType (string) – the type/format of the title (e.g. movie, short, tvseries, tvepisode, video, etc).\n",
    "<br />primaryTitle (string) – the more popular title / the title used by the filmmakers on promotional materials at the point of release.\n",
    "<br />originalTitle (string) - original title, in the original language.\n",
    "<br />isAdult (boolean) - 0: non-adult title; 1: adult title.\n",
    "<br />startYear (YYYY) – represents the release year of a title. In the case of TV Series, it is the series start year.\n",
    "<br />endYear (YYYY) – TV Series end year. for all other title types.\n",
    "<br />runtimeMinutes – primary runtime of the title, in minutes.\n",
    "<br />genres (string array) – includes up to three genres associated with the title.\n",
    "<br/><br/>\n",
    "**<br />title.principals.tsv – Contains the principal cast/crew for titles:**\n",
    "<br />tconst (string) - alphanumeric unique identifier of the title.\n",
    "<br />ordering (integer) – a number to uniquely identify rows for a given titleId.\n",
    "<br />nconst (string) - alphanumeric unique identifier of the name/person.\n",
    "<br />category (string) - the category of job that person was in.\n",
    "<br />job (string) - the specific job title if applicable, else.\n",
    "<br />characters (string) - the name of the character played if applicable, else.\n",
    "<br/><br/>\n",
    "**<br />title.ratings.tsv.gz – Contains the IMDb rating and votes information for titles:**\n",
    "<br />tconst (string) - alphanumeric unique identifier of the title.\n",
    "<br />averageRating – weighted average of all the individual user ratings.\n",
    "<br />numVotes - number of votes the title has received."
   ]
  },
  {
   "cell_type": "markdown",
   "id": "0a6597bc",
   "metadata": {},
   "source": [
    "# PART 1 - Installation and Initial Setup"
   ]
  },
  {
   "cell_type": "markdown",
   "id": "ef17e1b3",
   "metadata": {},
   "source": [
    "Begin by installing the necessary libraries that you may need to conduct your analysis. At the very least, you must install pandas and matplotlib"
   ]
  },
  {
   "cell_type": "code",
   "execution_count": 1,
   "id": "5a20c821",
   "metadata": {},
   "outputs": [
    {
     "data": {
      "text/html": [
       "Current session configs: <tt>{'conf': {'spark.pyspark.python': 'python3', 'spark.pyspark.virtualenv.enabled': 'true', 'spark.pyspark.virtualenv.type': 'native', 'spark.pyspark.virtualenv.bin.path': '/usr/bin/virtualenv'}, 'kind': 'pyspark'}</tt><br>"
      ],
      "text/plain": [
       "<IPython.core.display.HTML object>"
      ]
     },
     "metadata": {},
     "output_type": "display_data"
    },
    {
     "data": {
      "text/html": [
       "No active sessions."
      ],
      "text/plain": [
       "<IPython.core.display.HTML object>"
      ]
     },
     "metadata": {},
     "output_type": "display_data"
    }
   ],
   "source": [
    "%%info"
   ]
  },
  {
   "cell_type": "markdown",
   "id": "e0baad00",
   "metadata": {},
   "source": [
    "Let's install the necessary packages here"
   ]
  },
  {
   "cell_type": "code",
   "execution_count": 2,
   "id": "3a6bef25",
   "metadata": {},
   "outputs": [
    {
     "data": {
      "application/vnd.jupyter.widget-view+json": {
       "model_id": "ddbd7d2bf30f48a59aab011a9758ecda",
       "version_major": 2,
       "version_minor": 0
      },
      "text/plain": [
       "VBox()"
      ]
     },
     "metadata": {},
     "output_type": "display_data"
    },
    {
     "name": "stdout",
     "output_type": "stream",
     "text": [
      "Starting Spark application\n"
     ]
    },
    {
     "data": {
      "text/html": [
       "<table>\n",
       "<tr><th>ID</th><th>YARN Application ID</th><th>Kind</th><th>State</th><th>Spark UI</th><th>Driver log</th><th>Current session?</th></tr><tr><td>1</td><td>application_1668794938691_0002</td><td>pyspark</td><td>idle</td><td><a target=\"_blank\" href=\"http://ip-172-31-5-203.us-east-2.compute.internal:20888/proxy/application_1668794938691_0002/\">Link</a></td><td><a target=\"_blank\" href=\"http://ip-172-31-12-188.us-east-2.compute.internal:8042/node/containerlogs/container_1668794938691_0002_01_000001/livy\">Link</a></td><td>✔</td></tr></table>"
      ],
      "text/plain": [
       "<IPython.core.display.HTML object>"
      ]
     },
     "metadata": {},
     "output_type": "display_data"
    },
    {
     "data": {
      "application/vnd.jupyter.widget-view+json": {
       "model_id": "",
       "version_major": 2,
       "version_minor": 0
      },
      "text/plain": [
       "FloatProgress(value=0.0, bar_style='info', description='Progress:', layout=Layout(height='25px', width='50%'),…"
      ]
     },
     "metadata": {},
     "output_type": "display_data"
    },
    {
     "name": "stdout",
     "output_type": "stream",
     "text": [
      "SparkSession available as 'spark'.\n"
     ]
    },
    {
     "data": {
      "application/vnd.jupyter.widget-view+json": {
       "model_id": "",
       "version_major": 2,
       "version_minor": 0
      },
      "text/plain": [
       "FloatProgress(value=0.0, bar_style='info', description='Progress:', layout=Layout(height='25px', width='50%'),…"
      ]
     },
     "metadata": {},
     "output_type": "display_data"
    },
    {
     "name": "stdout",
     "output_type": "stream",
     "text": [
      "Collecting pandas==1.0.3\n",
      "  Using cached https://files.pythonhosted.org/packages/4a/6a/94b219b8ea0f2d580169e85ed1edc0163743f55aaeca8a44c2e8fc1e344e/pandas-1.0.3-cp37-cp37m-manylinux1_x86_64.whl\n",
      "Requirement already satisfied: pytz>=2017.2 in /usr/local/lib/python3.7/site-packages (from pandas==1.0.3)\n",
      "Requirement already satisfied: numpy>=1.13.3 in /usr/local/lib64/python3.7/site-packages (from pandas==1.0.3)\n",
      "Collecting python-dateutil>=2.6.1 (from pandas==1.0.3)\n",
      "  Using cached https://files.pythonhosted.org/packages/36/7a/87837f39d0296e723bb9b62bbb257d0355c7f6128853c78955f57342a56d/python_dateutil-2.8.2-py2.py3-none-any.whl\n",
      "Requirement already satisfied: six>=1.5 in /usr/local/lib/python3.7/site-packages (from python-dateutil>=2.6.1->pandas==1.0.3)\n",
      "Installing collected packages: python-dateutil, pandas\n",
      "Successfully installed pandas-1.0.3 python-dateutil-2.8.2\n",
      "\n",
      "Collecting matplotlib==3.2.1\n",
      "  Using cached https://files.pythonhosted.org/packages/b2/c2/71fcf957710f3ba1f09088b35776a799ba7dd95f7c2b195ec800933b276b/matplotlib-3.2.1-cp37-cp37m-manylinux1_x86_64.whl\n",
      "Requirement already satisfied: python-dateutil>=2.1 in /mnt/tmp/1668798585677-0/lib/python3.7/site-packages (from matplotlib==3.2.1)\n",
      "Collecting pyparsing!=2.0.4,!=2.1.2,!=2.1.6,>=2.0.1 (from matplotlib==3.2.1)\n",
      "  Using cached https://files.pythonhosted.org/packages/6c/10/a7d0fa5baea8fe7b50f448ab742f26f52b80bfca85ac2be9d35cdd9a3246/pyparsing-3.0.9-py3-none-any.whl\n",
      "Collecting cycler>=0.10 (from matplotlib==3.2.1)\n",
      "  Using cached https://files.pythonhosted.org/packages/5c/f9/695d6bedebd747e5eb0fe8fad57b72fdf25411273a39791cde838d5a8f51/cycler-0.11.0-py3-none-any.whl\n",
      "Requirement already satisfied: numpy>=1.11 in /usr/local/lib64/python3.7/site-packages (from matplotlib==3.2.1)\n",
      "Collecting kiwisolver>=1.0.1 (from matplotlib==3.2.1)\n",
      "  Using cached https://files.pythonhosted.org/packages/ab/8f/8dbe2d4efc4c0b08ec67d6efb7cc31fbfd688c80afad85f65980633b0d37/kiwisolver-1.4.4-cp37-cp37m-manylinux_2_5_x86_64.manylinux1_x86_64.whl\n",
      "Requirement already satisfied: six>=1.5 in /usr/local/lib/python3.7/site-packages (from python-dateutil>=2.1->matplotlib==3.2.1)\n",
      "Collecting typing-extensions; python_version < \"3.8\" (from kiwisolver>=1.0.1->matplotlib==3.2.1)\n",
      "  Using cached https://files.pythonhosted.org/packages/0b/8e/f1a0a5a76cfef77e1eb6004cb49e5f8d72634da638420b9ea492ce8305e8/typing_extensions-4.4.0-py3-none-any.whl\n",
      "Installing collected packages: pyparsing, cycler, typing-extensions, kiwisolver, matplotlib\n",
      "Successfully installed cycler-0.11.0 kiwisolver-1.4.4 matplotlib-3.2.1 pyparsing-3.0.9 typing-extensions-4.4.0"
     ]
    }
   ],
   "source": [
    "sc.install_pypi_package(\"pandas==1.0.3\")\n",
    "sc.install_pypi_package(\"matplotlib==3.2.1\")"
   ]
  },
  {
   "cell_type": "markdown",
   "id": "92f337f1",
   "metadata": {},
   "source": [
    "Now, import the installed packages from the previous block below."
   ]
  },
  {
   "cell_type": "code",
   "execution_count": 3,
   "id": "b527ed37",
   "metadata": {},
   "outputs": [
    {
     "data": {
      "application/vnd.jupyter.widget-view+json": {
       "model_id": "494445eaea07448a91049eba464837c5",
       "version_major": 2,
       "version_minor": 0
      },
      "text/plain": [
       "VBox()"
      ]
     },
     "metadata": {},
     "output_type": "display_data"
    },
    {
     "data": {
      "application/vnd.jupyter.widget-view+json": {
       "model_id": "",
       "version_major": 2,
       "version_minor": 0
      },
      "text/plain": [
       "FloatProgress(value=0.0, bar_style='info', description='Progress:', layout=Layout(height='25px', width='50%'),…"
      ]
     },
     "metadata": {},
     "output_type": "display_data"
    }
   ],
   "source": [
    "import pandas as pd\n",
    "import numpy as np\n",
    "import matplotlib.pyplot as plt\n",
    "from pyspark.sql.functions import col, lit"
   ]
  },
  {
   "cell_type": "markdown",
   "id": "9b2f109d",
   "metadata": {},
   "source": [
    "# Loading Data"
   ]
  },
  {
   "cell_type": "markdown",
   "id": "966aba52",
   "metadata": {},
   "source": [
    "Load all data from S3 into a Spark dataframe object "
   ]
  },
  {
   "cell_type": "code",
   "execution_count": 4,
   "id": "f5074486",
   "metadata": {
    "scrolled": true
   },
   "outputs": [
    {
     "data": {
      "application/vnd.jupyter.widget-view+json": {
       "model_id": "984c28e1f92245c78e4825172affdf72",
       "version_major": 2,
       "version_minor": 0
      },
      "text/plain": [
       "VBox()"
      ]
     },
     "metadata": {},
     "output_type": "display_data"
    },
    {
     "data": {
      "application/vnd.jupyter.widget-view+json": {
       "model_id": "",
       "version_major": 2,
       "version_minor": 0
      },
      "text/plain": [
       "FloatProgress(value=0.0, bar_style='info', description='Progress:', layout=Layout(height='25px', width='50%'),…"
      ]
     },
     "metadata": {},
     "output_type": "display_data"
    }
   ],
   "source": [
    "actors = spark.read.csv('s3://cis9760-lecture9-movieanalysis/name.basics.tsv', sep=r'\\t', header=True)\n",
    "basics = spark.read.csv('s3://cis9760-lecture9-movieanalysis/title.basics.tsv', sep=r'\\t', header=True)\n",
    "principals = spark.read.csv('s3://cis9760-lecture9-movieanalysis/title.principals.tsv', sep=r'\\t', header=True)\n",
    "ratings = spark.read.csv('s3://cis9760-lecture9-movieanalysis/title.ratings.tsv', sep=r'\\t', header=True)"
   ]
  },
  {
   "cell_type": "markdown",
   "id": "765abec6",
   "metadata": {},
   "source": [
    "## Actors"
   ]
  },
  {
   "cell_type": "markdown",
   "id": "6bd08dc9",
   "metadata": {},
   "source": [
    "Display the schema below:"
   ]
  },
  {
   "cell_type": "code",
   "execution_count": 5,
   "id": "1eecdfcb",
   "metadata": {},
   "outputs": [
    {
     "data": {
      "application/vnd.jupyter.widget-view+json": {
       "model_id": "f0b3c580b6be495bab7f0a2232b67049",
       "version_major": 2,
       "version_minor": 0
      },
      "text/plain": [
       "VBox()"
      ]
     },
     "metadata": {},
     "output_type": "display_data"
    },
    {
     "data": {
      "application/vnd.jupyter.widget-view+json": {
       "model_id": "",
       "version_major": 2,
       "version_minor": 0
      },
      "text/plain": [
       "FloatProgress(value=0.0, bar_style='info', description='Progress:', layout=Layout(height='25px', width='50%'),…"
      ]
     },
     "metadata": {},
     "output_type": "display_data"
    },
    {
     "name": "stdout",
     "output_type": "stream",
     "text": [
      "root\n",
      " |-- nconst: string (nullable = true)\n",
      " |-- primaryName: string (nullable = true)\n",
      " |-- birthYear: string (nullable = true)\n",
      " |-- deathYear: string (nullable = true)\n",
      " |-- primaryProfession: string (nullable = true)\n",
      " |-- knownForTitles: string (nullable = true)"
     ]
    }
   ],
   "source": [
    "actors.printSchema()"
   ]
  },
  {
   "cell_type": "markdown",
   "id": "64a82266",
   "metadata": {},
   "source": [
    "Display the first 5 rows with the following columns:\n",
    "\n",
    "* `primaryName`\n",
    "* `birthYear`\n",
    "* `deathYear`\n",
    "* `knownForTitles`"
   ]
  },
  {
   "cell_type": "code",
   "execution_count": 6,
   "id": "e5d925ee",
   "metadata": {},
   "outputs": [
    {
     "data": {
      "application/vnd.jupyter.widget-view+json": {
       "model_id": "6ee8a4d655cc436cbcb517e7ad1fabd8",
       "version_major": 2,
       "version_minor": 0
      },
      "text/plain": [
       "VBox()"
      ]
     },
     "metadata": {},
     "output_type": "display_data"
    },
    {
     "data": {
      "application/vnd.jupyter.widget-view+json": {
       "model_id": "",
       "version_major": 2,
       "version_minor": 0
      },
      "text/plain": [
       "FloatProgress(value=0.0, bar_style='info', description='Progress:', layout=Layout(height='25px', width='50%'),…"
      ]
     },
     "metadata": {},
     "output_type": "display_data"
    },
    {
     "name": "stdout",
     "output_type": "stream",
     "text": [
      "+---------------+---------+---------+--------------------+\n",
      "|    primaryName|birthYear|deathYear|      knownForTitles|\n",
      "+---------------+---------+---------+--------------------+\n",
      "|   Fred Astaire|     1899|     1987|tt0050419,tt00531...|\n",
      "|  Lauren Bacall|     1924|     2014|tt0071877,tt01170...|\n",
      "|Brigitte Bardot|     1934|       \\N|tt0054452,tt00491...|\n",
      "|   John Belushi|     1949|     1982|tt0077975,tt00725...|\n",
      "| Ingmar Bergman|     1918|     2007|tt0069467,tt00509...|\n",
      "+---------------+---------+---------+--------------------+\n",
      "only showing top 5 rows"
     ]
    }
   ],
   "source": [
    "actors.select('primaryName','birthYear','deathYear','knownForTitles').show(5)"
   ]
  },
  {
   "cell_type": "markdown",
   "id": "51442d1c",
   "metadata": {},
   "source": [
    "## Genres"
   ]
  },
  {
   "cell_type": "markdown",
   "id": "0c2b583c",
   "metadata": {},
   "source": [
    "Display the first 10 rows with the following columns:\n",
    "    \n",
    "* `titleType`\n",
    "* `primaryTitle`\n",
    "* `genres`"
   ]
  },
  {
   "cell_type": "code",
   "execution_count": 7,
   "id": "391cdac2",
   "metadata": {
    "scrolled": false
   },
   "outputs": [
    {
     "data": {
      "application/vnd.jupyter.widget-view+json": {
       "model_id": "e9cdb5695a0d42bcb72537b7fd762511",
       "version_major": 2,
       "version_minor": 0
      },
      "text/plain": [
       "VBox()"
      ]
     },
     "metadata": {},
     "output_type": "display_data"
    },
    {
     "data": {
      "application/vnd.jupyter.widget-view+json": {
       "model_id": "",
       "version_major": 2,
       "version_minor": 0
      },
      "text/plain": [
       "FloatProgress(value=0.0, bar_style='info', description='Progress:', layout=Layout(height='25px', width='50%'),…"
      ]
     },
     "metadata": {},
     "output_type": "display_data"
    },
    {
     "name": "stdout",
     "output_type": "stream",
     "text": [
      "+---------+--------------------+--------------------+\n",
      "|titleType|        primaryTitle|              genres|\n",
      "+---------+--------------------+--------------------+\n",
      "|    short|          Carmencita|   Documentary,Short|\n",
      "|    short|Le clown et ses c...|     Animation,Short|\n",
      "|    short|      Pauvre Pierrot|Animation,Comedy,...|\n",
      "|    short|         Un bon bock|     Animation,Short|\n",
      "|    short|    Blacksmith Scene|        Comedy,Short|\n",
      "|    short|   Chinese Opium Den|               Short|\n",
      "|    short|Corbett and Court...|         Short,Sport|\n",
      "|    short|Edison Kinetoscop...|   Documentary,Short|\n",
      "|    movie|          Miss Jerry|             Romance|\n",
      "|    short| Exiting the Factory|   Documentary,Short|\n",
      "+---------+--------------------+--------------------+\n",
      "only showing top 10 rows"
     ]
    }
   ],
   "source": [
    "basics.select('titleType','primaryTitle','genres').show(10)"
   ]
  },
  {
   "cell_type": "markdown",
   "id": "c35ce504",
   "metadata": {},
   "source": [
    "Display the unique categories below:"
   ]
  },
  {
   "cell_type": "code",
   "execution_count": 8,
   "id": "5128f46d",
   "metadata": {
    "scrolled": false
   },
   "outputs": [
    {
     "data": {
      "application/vnd.jupyter.widget-view+json": {
       "model_id": "3738b10599464c868f16c0b9d6779b3c",
       "version_major": 2,
       "version_minor": 0
      },
      "text/plain": [
       "VBox()"
      ]
     },
     "metadata": {},
     "output_type": "display_data"
    },
    {
     "data": {
      "application/vnd.jupyter.widget-view+json": {
       "model_id": "",
       "version_major": 2,
       "version_minor": 0
      },
      "text/plain": [
       "FloatProgress(value=0.0, bar_style='info', description='Progress:', layout=Layout(height='25px', width='50%'),…"
      ]
     },
     "metadata": {},
     "output_type": "display_data"
    },
    {
     "name": "stdout",
     "output_type": "stream",
     "text": [
      "+------------+\n",
      "|   titleType|\n",
      "+------------+\n",
      "|    tvSeries|\n",
      "|tvMiniSeries|\n",
      "|       movie|\n",
      "|   videoGame|\n",
      "|   tvSpecial|\n",
      "|       video|\n",
      "|     tvMovie|\n",
      "|   tvEpisode|\n",
      "|     tvShort|\n",
      "|       short|\n",
      "+------------+"
     ]
    }
   ],
   "source": [
    "basics.select(\"titleType\").distinct().show()"
   ]
  },
  {
   "cell_type": "markdown",
   "id": "4a7a6cce",
   "metadata": {},
   "source": [
    "Display the schema below:"
   ]
  },
  {
   "cell_type": "code",
   "execution_count": 9,
   "id": "ea93031e",
   "metadata": {},
   "outputs": [
    {
     "data": {
      "application/vnd.jupyter.widget-view+json": {
       "model_id": "86e256977ad046178afd34bdc02a2f66",
       "version_major": 2,
       "version_minor": 0
      },
      "text/plain": [
       "VBox()"
      ]
     },
     "metadata": {},
     "output_type": "display_data"
    },
    {
     "data": {
      "application/vnd.jupyter.widget-view+json": {
       "model_id": "",
       "version_major": 2,
       "version_minor": 0
      },
      "text/plain": [
       "FloatProgress(value=0.0, bar_style='info', description='Progress:', layout=Layout(height='25px', width='50%'),…"
      ]
     },
     "metadata": {},
     "output_type": "display_data"
    },
    {
     "name": "stdout",
     "output_type": "stream",
     "text": [
      "root\n",
      " |-- tconst: string (nullable = true)\n",
      " |-- titleType: string (nullable = true)\n",
      " |-- primaryTitle: string (nullable = true)\n",
      " |-- originalTitle: string (nullable = true)\n",
      " |-- isAdult: string (nullable = true)\n",
      " |-- startYear: string (nullable = true)\n",
      " |-- endYear: string (nullable = true)\n",
      " |-- runtimeMinutes: string (nullable = true)\n",
      " |-- genres: string (nullable = true)"
     ]
    }
   ],
   "source": [
    "basics.printSchema()"
   ]
  },
  {
   "cell_type": "markdown",
   "id": "fa706ee4",
   "metadata": {},
   "source": [
    "## Movie Actors"
   ]
  },
  {
   "cell_type": "markdown",
   "id": "32f14042",
   "metadata": {},
   "source": [
    "Display the schema below:"
   ]
  },
  {
   "cell_type": "code",
   "execution_count": 10,
   "id": "4571eb2f",
   "metadata": {
    "scrolled": false
   },
   "outputs": [
    {
     "data": {
      "application/vnd.jupyter.widget-view+json": {
       "model_id": "9414510e1e214234a8644ef9e5139b3f",
       "version_major": 2,
       "version_minor": 0
      },
      "text/plain": [
       "VBox()"
      ]
     },
     "metadata": {},
     "output_type": "display_data"
    },
    {
     "data": {
      "application/vnd.jupyter.widget-view+json": {
       "model_id": "",
       "version_major": 2,
       "version_minor": 0
      },
      "text/plain": [
       "FloatProgress(value=0.0, bar_style='info', description='Progress:', layout=Layout(height='25px', width='50%'),…"
      ]
     },
     "metadata": {},
     "output_type": "display_data"
    },
    {
     "name": "stdout",
     "output_type": "stream",
     "text": [
      "root\n",
      " |-- tconst: string (nullable = true)\n",
      " |-- ordering: string (nullable = true)\n",
      " |-- nconst: string (nullable = true)\n",
      " |-- category: string (nullable = true)\n",
      " |-- job: string (nullable = true)\n",
      " |-- characters: string (nullable = true)"
     ]
    }
   ],
   "source": [
    "principals.printSchema()\n"
   ]
  },
  {
   "cell_type": "markdown",
   "id": "b08eb2d6",
   "metadata": {},
   "source": [
    "Display the first 10 rows below"
   ]
  },
  {
   "cell_type": "code",
   "execution_count": 11,
   "id": "f1bb4d2e",
   "metadata": {},
   "outputs": [
    {
     "data": {
      "application/vnd.jupyter.widget-view+json": {
       "model_id": "9a6a6aa2709641378d93848f78e9e616",
       "version_major": 2,
       "version_minor": 0
      },
      "text/plain": [
       "VBox()"
      ]
     },
     "metadata": {},
     "output_type": "display_data"
    },
    {
     "data": {
      "application/vnd.jupyter.widget-view+json": {
       "model_id": "",
       "version_major": 2,
       "version_minor": 0
      },
      "text/plain": [
       "FloatProgress(value=0.0, bar_style='info', description='Progress:', layout=Layout(height='25px', width='50%'),…"
      ]
     },
     "metadata": {},
     "output_type": "display_data"
    },
    {
     "name": "stdout",
     "output_type": "stream",
     "text": [
      "+---------+--------+---------+---------------+--------------------+-----------+\n",
      "|   tconst|ordering|   nconst|       category|                 job| characters|\n",
      "+---------+--------+---------+---------------+--------------------+-----------+\n",
      "|tt0000001|       1|nm1588970|           self|                  \\N|[\"Herself\"]|\n",
      "|tt0000001|       2|nm0005690|       director|                  \\N|         \\N|\n",
      "|tt0000001|       3|nm0374658|cinematographer|director of photo...|         \\N|\n",
      "|tt0000002|       1|nm0721526|       director|                  \\N|         \\N|\n",
      "|tt0000002|       2|nm1335271|       composer|                  \\N|         \\N|\n",
      "|tt0000003|       1|nm0721526|       director|                  \\N|         \\N|\n",
      "|tt0000003|       2|nm5442194|       producer|            producer|         \\N|\n",
      "|tt0000003|       3|nm1335271|       composer|                  \\N|         \\N|\n",
      "|tt0000003|       4|nm5442200|         editor|                  \\N|         \\N|\n",
      "|tt0000004|       1|nm0721526|       director|                  \\N|         \\N|\n",
      "+---------+--------+---------+---------------+--------------------+-----------+\n",
      "only showing top 10 rows"
     ]
    }
   ],
   "source": [
    "principals.show(10)"
   ]
  },
  {
   "cell_type": "markdown",
   "id": "e063e804",
   "metadata": {},
   "source": [
    "## Movie Ratings"
   ]
  },
  {
   "cell_type": "markdown",
   "id": "8d9dbbf2",
   "metadata": {},
   "source": [
    "Display the schema below:"
   ]
  },
  {
   "cell_type": "code",
   "execution_count": 12,
   "id": "394297ae",
   "metadata": {},
   "outputs": [
    {
     "data": {
      "application/vnd.jupyter.widget-view+json": {
       "model_id": "cd80748a330043a9b78c84b6ee93a0c4",
       "version_major": 2,
       "version_minor": 0
      },
      "text/plain": [
       "VBox()"
      ]
     },
     "metadata": {},
     "output_type": "display_data"
    },
    {
     "data": {
      "application/vnd.jupyter.widget-view+json": {
       "model_id": "",
       "version_major": 2,
       "version_minor": 0
      },
      "text/plain": [
       "FloatProgress(value=0.0, bar_style='info', description='Progress:', layout=Layout(height='25px', width='50%'),…"
      ]
     },
     "metadata": {},
     "output_type": "display_data"
    },
    {
     "name": "stdout",
     "output_type": "stream",
     "text": [
      "root\n",
      " |-- tconst: string (nullable = true)\n",
      " |-- averageRating: string (nullable = true)\n",
      " |-- numVotes: string (nullable = true)"
     ]
    }
   ],
   "source": [
    "ratings.printSchema()"
   ]
  },
  {
   "cell_type": "markdown",
   "id": "a7e38610",
   "metadata": {},
   "source": [
    "Display the first 10 rows in a descending order by the number of votes"
   ]
  },
  {
   "cell_type": "code",
   "execution_count": 13,
   "id": "95d90d02",
   "metadata": {},
   "outputs": [
    {
     "data": {
      "application/vnd.jupyter.widget-view+json": {
       "model_id": "de48c603de2b4d5b8568c4d94d082c87",
       "version_major": 2,
       "version_minor": 0
      },
      "text/plain": [
       "VBox()"
      ]
     },
     "metadata": {},
     "output_type": "display_data"
    },
    {
     "data": {
      "application/vnd.jupyter.widget-view+json": {
       "model_id": "",
       "version_major": 2,
       "version_minor": 0
      },
      "text/plain": [
       "FloatProgress(value=0.0, bar_style='info', description='Progress:', layout=Layout(height='25px', width='50%'),…"
      ]
     },
     "metadata": {},
     "output_type": "display_data"
    },
    {
     "name": "stdout",
     "output_type": "stream",
     "text": [
      "+---------+-------------+--------+\n",
      "|   tconst|averageRating|numVotes|\n",
      "+---------+-------------+--------+\n",
      "|tt7430722|          6.8|    9999|\n",
      "|tt4445154|          8.1|    9997|\n",
      "|tt2229907|          6.3|    9996|\n",
      "|tt0294097|          8.0|    9994|\n",
      "|tt0264734|          6.5|    9993|\n",
      "|tt2032572|          5.2|    9991|\n",
      "|tt8860450|          6.3|    9991|\n",
      "|tt0025173|          6.6|     999|\n",
      "|tt0062155|          6.9|     999|\n",
      "|tt0062690|          6.1|     999|\n",
      "+---------+-------------+--------+\n",
      "only showing top 10 rows"
     ]
    }
   ],
   "source": [
    "ratings.sort(col(\"numVotes\").desc(),col(\"tconst\").asc()).show(10)"
   ]
  },
  {
   "cell_type": "markdown",
   "id": "dc6beb73",
   "metadata": {},
   "source": [
    "# Overview of Data"
   ]
  },
  {
   "cell_type": "markdown",
   "id": "6349d83b",
   "metadata": {},
   "source": [
    "Display the number of rows and columns in each dataFrame object."
   ]
  },
  {
   "cell_type": "code",
   "execution_count": 14,
   "id": "c085e8f6",
   "metadata": {
    "scrolled": true
   },
   "outputs": [
    {
     "data": {
      "application/vnd.jupyter.widget-view+json": {
       "model_id": "1d7ec89bcdcc41639a20febc24c42eff",
       "version_major": 2,
       "version_minor": 0
      },
      "text/plain": [
       "VBox()"
      ]
     },
     "metadata": {},
     "output_type": "display_data"
    },
    {
     "data": {
      "application/vnd.jupyter.widget-view+json": {
       "model_id": "",
       "version_major": 2,
       "version_minor": 0
      },
      "text/plain": [
       "FloatProgress(value=0.0, bar_style='info', description='Progress:', layout=Layout(height='25px', width='50%'),…"
      ]
     },
     "metadata": {},
     "output_type": "display_data"
    },
    {
     "name": "stdout",
     "output_type": "stream",
     "text": [
      "Number of columns in Actors table:6\n",
      "Number of rows in Actors table:9706922\n",
      "\n",
      "Number of columns in Genres table:9\n",
      "Number of rows in Genres table:6321302\n",
      "\n",
      "Number of columns in Movie Actors table:6\n",
      "Number of rows in Movie Actors table:36468817\n",
      "\n",
      "Number of columns in Movie Ratings table:3\n",
      "Number of rows in Movie Ratings table:993153"
     ]
    }
   ],
   "source": [
    "print(f'Number of columns in Actors table:{len(actors.dtypes)}')\n",
    "print(f'Number of rows in Actors table:{actors.count()}\\n')\n",
    "\n",
    "print(f'Number of columns in Genres table:{len(basics.dtypes)}')\n",
    "print(f'Number of rows in Genres table:{basics.count()}\\n')\n",
    "\n",
    "print(f'Number of columns in Movie Actors table:{len(principals.dtypes)}')\n",
    "print(f'Number of rows in Movie Actors table:{principals.count()}\\n')\n",
    "\n",
    "print(f'Number of columns in Movie Ratings table:{len(ratings.dtypes)}')\n",
    "print(f'Number of rows in Movie Ratings table:{ratings.count()}\\n')\n"
   ]
  },
  {
   "cell_type": "markdown",
   "id": "689e09d5",
   "metadata": {},
   "source": [
    "# PART 2 - Analyzing Genres"
   ]
  },
  {
   "cell_type": "markdown",
   "id": "bce79899",
   "metadata": {},
   "source": [
    "Let's now answer this question: how many unique genres are represented in this dataset?\n",
    "\n",
    "Essentially, we have the genres per movie as a list - this is useful to quickly see what each movie might be represented as but it is difficult to easily answer questions such as:\n",
    "\n",
    "* How many movies are categorized as Comedy, for instance?\n",
    "* What are the top 20 most popular genres available?"
   ]
  },
  {
   "cell_type": "markdown",
   "id": "3f5ea0ad",
   "metadata": {},
   "source": [
    "## Association Table\n",
    "\n",
    "We need to \"break out\" these genres from the tconst? One common approach to take is to build an association table mapping a single tconst multiple times to each distinct genre.\n",
    "\n",
    "For instance, given the following:\n",
    "\n",
    "\n",
    "| tconst   | titleType  |genres |\n",
    "|----------|------------|-------|\n",
    "| abcd123  | XXX        |a,b,c  |\n",
    "\n",
    "We would like to derive something like:\n",
    "\n",
    "| tconst   |  titleType |genre |\n",
    "|----------|------------|------|\n",
    "| abcd123  | XXX        |a     |\n",
    "| abcd123  | XXX        |b     |\n",
    "| abcd123  | XXX        |c     |\n",
    "\n",
    "\n",
    "What this does is allow us to then perform a myriad of rollups and other analysis on this association table which can aid us in answering the questions asked above.\n",
    "\n",
    "Implement the code necessary to derive the table described from the data set"
   ]
  },
  {
   "cell_type": "code",
   "execution_count": 15,
   "id": "61349598",
   "metadata": {},
   "outputs": [
    {
     "data": {
      "application/vnd.jupyter.widget-view+json": {
       "model_id": "628e99eb6c0e453dbf1587199854d68b",
       "version_major": 2,
       "version_minor": 0
      },
      "text/plain": [
       "VBox()"
      ]
     },
     "metadata": {},
     "output_type": "display_data"
    },
    {
     "data": {
      "application/vnd.jupyter.widget-view+json": {
       "model_id": "",
       "version_major": 2,
       "version_minor": 0
      },
      "text/plain": [
       "FloatProgress(value=0.0, bar_style='info', description='Progress:', layout=Layout(height='25px', width='50%'),…"
      ]
     },
     "metadata": {},
     "output_type": "display_data"
    },
    {
     "name": "stdout",
     "output_type": "stream",
     "text": [
      "+---------+---------+--------------------+\n",
      "|   tconst|titleType|              genres|\n",
      "+---------+---------+--------------------+\n",
      "|tt0000001|    short|   Documentary,Short|\n",
      "|tt0000002|    short|     Animation,Short|\n",
      "|tt0000003|    short|Animation,Comedy,...|\n",
      "|tt0000004|    short|     Animation,Short|\n",
      "|tt0000005|    short|        Comedy,Short|\n",
      "+---------+---------+--------------------+\n",
      "only showing top 5 rows"
     ]
    }
   ],
   "source": [
    "basics.select('tconst','titleType','genres').show(5)"
   ]
  },
  {
   "cell_type": "markdown",
   "id": "3f27ead6",
   "metadata": {},
   "source": [
    "Display the first 10 rows of your association table below"
   ]
  },
  {
   "cell_type": "code",
   "execution_count": 16,
   "id": "209a9abd",
   "metadata": {},
   "outputs": [
    {
     "data": {
      "application/vnd.jupyter.widget-view+json": {
       "model_id": "2413e7d0b1264434a3ed94e46cbd8bdb",
       "version_major": 2,
       "version_minor": 0
      },
      "text/plain": [
       "VBox()"
      ]
     },
     "metadata": {},
     "output_type": "display_data"
    },
    {
     "data": {
      "application/vnd.jupyter.widget-view+json": {
       "model_id": "",
       "version_major": 2,
       "version_minor": 0
      },
      "text/plain": [
       "FloatProgress(value=0.0, bar_style='info', description='Progress:', layout=Layout(height='25px', width='50%'),…"
      ]
     },
     "metadata": {},
     "output_type": "display_data"
    },
    {
     "name": "stdout",
     "output_type": "stream",
     "text": [
      "+---------+---------+-----------+\n",
      "|   tconst|titleType|      genre|\n",
      "+---------+---------+-----------+\n",
      "|tt0000001|    short|Documentary|\n",
      "|tt0000001|    short|      Short|\n",
      "|tt0000002|    short|  Animation|\n",
      "|tt0000002|    short|      Short|\n",
      "|tt0000003|    short|  Animation|\n",
      "|tt0000003|    short|     Comedy|\n",
      "|tt0000003|    short|    Romance|\n",
      "|tt0000004|    short|  Animation|\n",
      "|tt0000004|    short|      Short|\n",
      "|tt0000005|    short|     Comedy|\n",
      "+---------+---------+-----------+\n",
      "only showing top 10 rows"
     ]
    }
   ],
   "source": [
    "from pyspark.sql.functions import split, explode\n",
    "df_genre = basics.withColumn('genre',explode(split('genres',',')))\n",
    "df_genre=df_genre.select('tconst','titleType','genre')\n",
    "df_genre.show(10)"
   ]
  },
  {
   "cell_type": "markdown",
   "id": "28a6cb33",
   "metadata": {},
   "source": [
    "## Total Unique Genres"
   ]
  },
  {
   "cell_type": "markdown",
   "id": "3da774ae",
   "metadata": {},
   "source": [
    "**What is the total number of unique genres available in the movie category?**"
   ]
  },
  {
   "cell_type": "code",
   "execution_count": 17,
   "id": "4e41deb8",
   "metadata": {
    "scrolled": true
   },
   "outputs": [
    {
     "data": {
      "application/vnd.jupyter.widget-view+json": {
       "model_id": "48d0f3bba9d6456b9ece15756de52ce5",
       "version_major": 2,
       "version_minor": 0
      },
      "text/plain": [
       "VBox()"
      ]
     },
     "metadata": {},
     "output_type": "display_data"
    },
    {
     "data": {
      "application/vnd.jupyter.widget-view+json": {
       "model_id": "",
       "version_major": 2,
       "version_minor": 0
      },
      "text/plain": [
       "FloatProgress(value=0.0, bar_style='info', description='Progress:', layout=Layout(height='25px', width='50%'),…"
      ]
     },
     "metadata": {},
     "output_type": "display_data"
    },
    {
     "name": "stdout",
     "output_type": "stream",
     "text": [
      "29"
     ]
    }
   ],
   "source": [
    "df_genre.createOrReplaceTempView(\"genre\")\n",
    "unique = spark.sql(\n",
    "'''\n",
    "SELECT DISTINCT(genre)\n",
    "FROM genre\n",
    "''')\n",
    "\n",
    "unique.count()"
   ]
  },
  {
   "cell_type": "markdown",
   "id": "a7808ac8",
   "metadata": {},
   "source": [
    "**What are the unique genres available?**"
   ]
  },
  {
   "cell_type": "code",
   "execution_count": 18,
   "id": "1c502d5f",
   "metadata": {},
   "outputs": [
    {
     "data": {
      "application/vnd.jupyter.widget-view+json": {
       "model_id": "82f29da8915c4368a11eecb50493120b",
       "version_major": 2,
       "version_minor": 0
      },
      "text/plain": [
       "VBox()"
      ]
     },
     "metadata": {},
     "output_type": "display_data"
    },
    {
     "data": {
      "application/vnd.jupyter.widget-view+json": {
       "model_id": "",
       "version_major": 2,
       "version_minor": 0
      },
      "text/plain": [
       "FloatProgress(value=0.0, bar_style='info', description='Progress:', layout=Layout(height='25px', width='50%'),…"
      ]
     },
     "metadata": {},
     "output_type": "display_data"
    },
    {
     "name": "stdout",
     "output_type": "stream",
     "text": [
      "+-----------+\n",
      "|genre      |\n",
      "+-----------+\n",
      "|Mystery    |\n",
      "|Musical    |\n",
      "|Sport      |\n",
      "|Action     |\n",
      "|Talk-Show  |\n",
      "|Romance    |\n",
      "|Thriller   |\n",
      "|\\N         |\n",
      "|Reality-TV |\n",
      "|Family     |\n",
      "|Fantasy    |\n",
      "|History    |\n",
      "|Animation  |\n",
      "|Film-Noir  |\n",
      "|Short      |\n",
      "|Sci-Fi     |\n",
      "|News       |\n",
      "|Drama      |\n",
      "|Documentary|\n",
      "|Western    |\n",
      "+-----------+\n",
      "only showing top 20 rows"
     ]
    }
   ],
   "source": [
    "unique.show(20,truncate=False)"
   ]
  },
  {
   "cell_type": "markdown",
   "id": "85bae74f",
   "metadata": {},
   "source": [
    "**Oops! Something is off!**"
   ]
  },
  {
   "cell_type": "code",
   "execution_count": 19,
   "id": "670fb90f",
   "metadata": {
    "scrolled": true
   },
   "outputs": [
    {
     "data": {
      "application/vnd.jupyter.widget-view+json": {
       "model_id": "8fad6b0ac74341e9a03abe450c294099",
       "version_major": 2,
       "version_minor": 0
      },
      "text/plain": [
       "VBox()"
      ]
     },
     "metadata": {},
     "output_type": "display_data"
    },
    {
     "data": {
      "application/vnd.jupyter.widget-view+json": {
       "model_id": "",
       "version_major": 2,
       "version_minor": 0
      },
      "text/plain": [
       "FloatProgress(value=0.0, bar_style='info', description='Progress:', layout=Layout(height='25px', width='50%'),…"
      ]
     },
     "metadata": {},
     "output_type": "display_data"
    },
    {
     "name": "stdout",
     "output_type": "stream",
     "text": [
      "+-----------+\n",
      "|genre      |\n",
      "+-----------+\n",
      "|Mystery    |\n",
      "|Musical    |\n",
      "|Sport      |\n",
      "|Action     |\n",
      "|Talk-Show  |\n",
      "|Romance    |\n",
      "|Thriller   |\n",
      "|Reality-TV |\n",
      "|Family     |\n",
      "|Fantasy    |\n",
      "|History    |\n",
      "|Animation  |\n",
      "|Short      |\n",
      "|Film-Noir  |\n",
      "|Sci-Fi     |\n",
      "|News       |\n",
      "|Drama      |\n",
      "|Documentary|\n",
      "|Western    |\n",
      "|Comedy     |\n",
      "+-----------+\n",
      "only showing top 20 rows"
     ]
    }
   ],
   "source": [
    "unique.filter(unique.genre != \"\\\\N\").show(20,truncate=False)"
   ]
  },
  {
   "cell_type": "code",
   "execution_count": 20,
   "id": "379868ed",
   "metadata": {
    "scrolled": true
   },
   "outputs": [
    {
     "data": {
      "application/vnd.jupyter.widget-view+json": {
       "model_id": "13168859169b4e4abdc045ae097296f9",
       "version_major": 2,
       "version_minor": 0
      },
      "text/plain": [
       "VBox()"
      ]
     },
     "metadata": {},
     "output_type": "display_data"
    },
    {
     "data": {
      "application/vnd.jupyter.widget-view+json": {
       "model_id": "",
       "version_major": 2,
       "version_minor": 0
      },
      "text/plain": [
       "FloatProgress(value=0.0, bar_style='info', description='Progress:', layout=Layout(height='25px', width='50%'),…"
      ]
     },
     "metadata": {},
     "output_type": "display_data"
    },
    {
     "name": "stdout",
     "output_type": "stream",
     "text": [
      "28"
     ]
    }
   ],
   "source": [
    "unique.filter(unique.genre != \"\\\\N\").count()"
   ]
  },
  {
   "cell_type": "markdown",
   "id": "fe9a6b8a",
   "metadata": {},
   "source": [
    "## Top Genres by Movies\n",
    "\n",
    "Now let's find the highest rated genres in this dataset by rolling up genres."
   ]
  },
  {
   "cell_type": "markdown",
   "id": "b30e0b96",
   "metadata": {},
   "source": [
    "### Average Rating / Genre"
   ]
  },
  {
   "cell_type": "markdown",
   "id": "59242911",
   "metadata": {},
   "source": [
    "So now, let's unroll our distinct count a bit and display the per average rating value of per genre.\n",
    "\n",
    "The expected output should be:\n",
    "\n",
    "| genre | averageRating |\n",
    "|-------------|------------|\n",
    "| a     | 8.5         |\n",
    "| b     | 6.3         |\n",
    "| c     | 7.2         |\n",
    "\n",
    "Or something to that effect."
   ]
  },
  {
   "cell_type": "markdown",
   "id": "f505b1a2",
   "metadata": {},
   "source": [
    "First, let's join our two dataframes (movie ratings and genres) by tconst"
   ]
  },
  {
   "cell_type": "code",
   "execution_count": 21,
   "id": "6de8b22d",
   "metadata": {},
   "outputs": [
    {
     "data": {
      "application/vnd.jupyter.widget-view+json": {
       "model_id": "5248e6eee30a44c08a15d4cc5d10f960",
       "version_major": 2,
       "version_minor": 0
      },
      "text/plain": [
       "VBox()"
      ]
     },
     "metadata": {},
     "output_type": "display_data"
    },
    {
     "data": {
      "application/vnd.jupyter.widget-view+json": {
       "model_id": "",
       "version_major": 2,
       "version_minor": 0
      },
      "text/plain": [
       "FloatProgress(value=0.0, bar_style='info', description='Progress:', layout=Layout(height='25px', width='50%'),…"
      ]
     },
     "metadata": {},
     "output_type": "display_data"
    },
    {
     "name": "stdout",
     "output_type": "stream",
     "text": [
      "+---------+-------------+\n",
      "|    genre|averageRating|\n",
      "+---------+-------------+\n",
      "|    Drama|          4.2|\n",
      "|    Drama|          4.2|\n",
      "|Biography|          4.1|\n",
      "|    Drama|          4.1|\n",
      "|  History|          4.1|\n",
      "|    Drama|          5.7|\n",
      "|    Drama|          4.6|\n",
      "|  History|          4.6|\n",
      "|Biography|          6.3|\n",
      "|    Drama|          6.3|\n",
      "+---------+-------------+\n",
      "only showing top 10 rows"
     ]
    }
   ],
   "source": [
    "ratings.createOrReplaceTempView(\"rating\")\n",
    "basics.createOrReplaceTempView(\"basic\")\n",
    "df1_genre=df_genre.select('tconst','titleType','genre')\n",
    "df1_genre=df1_genre.filter(df1_genre.genre != \"\\\\N\")\n",
    "df1_genre.createOrReplaceTempView(\"genre1\")\n",
    "spark.sql(\n",
    "'''\n",
    "SELECT genre1.genre,rating.averageRating\n",
    "FROM genre1\n",
    "INNER JOIN rating\n",
    "ON genre1.tconst=rating.tconst\n",
    "WHERE titleType='movie'\n",
    "''').show(10)"
   ]
  },
  {
   "cell_type": "markdown",
   "id": "5ac38a61",
   "metadata": {},
   "source": [
    "Now, let's aggregate along the averageRating column to get a resultant dataframe that displays average rating per genre."
   ]
  },
  {
   "cell_type": "code",
   "execution_count": 22,
   "id": "7f8424c8",
   "metadata": {
    "scrolled": true
   },
   "outputs": [
    {
     "data": {
      "application/vnd.jupyter.widget-view+json": {
       "model_id": "0903b86dea804bb8a9878439f31c3330",
       "version_major": 2,
       "version_minor": 0
      },
      "text/plain": [
       "VBox()"
      ]
     },
     "metadata": {},
     "output_type": "display_data"
    },
    {
     "data": {
      "application/vnd.jupyter.widget-view+json": {
       "model_id": "",
       "version_major": 2,
       "version_minor": 0
      },
      "text/plain": [
       "FloatProgress(value=0.0, bar_style='info', description='Progress:', layout=Layout(height='25px', width='50%'),…"
      ]
     },
     "metadata": {},
     "output_type": "display_data"
    },
    {
     "name": "stdout",
     "output_type": "stream",
     "text": [
      "+-----------+------------------+\n",
      "|genre      |avg_rating        |\n",
      "+-----------+------------------+\n",
      "|Mystery    |5.940437535981577 |\n",
      "|Musical    |6.20324605451937  |\n",
      "|Action     |5.71873406966865  |\n",
      "|Sport      |6.600145190562612 |\n",
      "|Talk-Show  |5.8               |\n",
      "|Romance    |6.1257141803973605|\n",
      "|Thriller   |5.625967566447333 |\n",
      "|Reality-TV |6.379310344827587 |\n",
      "|Family     |6.250560452715201 |\n",
      "|Fantasy    |5.92482076283338  |\n",
      "|History    |6.822718115605146 |\n",
      "|Animation  |6.326203750633555 |\n",
      "|Film-Noir  |6.636246786632392 |\n",
      "|Short      |7.26              |\n",
      "|Sci-Fi     |5.325150008571916 |\n",
      "|News       |7.2009160305343505|\n",
      "|Drama      |6.288080210387904 |\n",
      "|Documentary|7.245469798657719 |\n",
      "|Western    |5.948970989337962 |\n",
      "|Comedy     |5.94136310800413  |\n",
      "+-----------+------------------+\n",
      "only showing top 20 rows"
     ]
    }
   ],
   "source": [
    "top_20 = spark.sql(\n",
    "'''\n",
    "SELECT genre1.genre,avg(rating.averageRating) as avg_rating\n",
    "FROM genre1\n",
    "INNER JOIN rating\n",
    "ON genre1.tconst=rating.tconst\n",
    "WHERE titleType='movie'\n",
    "GROUP BY genre1.genre\n",
    "''')\n",
    "\n",
    "top_20.show(truncate=False)"
   ]
  },
  {
   "cell_type": "markdown",
   "id": "31bbbe8a",
   "metadata": {},
   "source": [
    "### Horizontal Bar Chart of Top Genres\n",
    "\n",
    "With this data available, let us now build a barchart of all genres \n",
    "\n",
    "**HINT**: don't forget about the matplotlib magic!\n",
    "\n",
    "```\n",
    "%matplot plt\n",
    "```"
   ]
  },
  {
   "cell_type": "code",
   "execution_count": 23,
   "id": "52189e81",
   "metadata": {},
   "outputs": [
    {
     "data": {
      "application/vnd.jupyter.widget-view+json": {
       "model_id": "feeaf17cebd74132a9de6ef4145fe9b6",
       "version_major": 2,
       "version_minor": 0
      },
      "text/plain": [
       "VBox()"
      ]
     },
     "metadata": {},
     "output_type": "display_data"
    },
    {
     "data": {
      "application/vnd.jupyter.widget-view+json": {
       "model_id": "",
       "version_major": 2,
       "version_minor": 0
      },
      "text/plain": [
       "FloatProgress(value=0.0, bar_style='info', description='Progress:', layout=Layout(height='25px', width='50%'),…"
      ]
     },
     "metadata": {},
     "output_type": "display_data"
    },
    {
     "name": "stdout",
     "output_type": "stream",
     "text": [
      "+-----------+------------------+\n",
      "|genre      |avg_rating        |\n",
      "+-----------+------------------+\n",
      "|Short      |7.260000000000001 |\n",
      "|Documentary|7.245469798657719 |\n",
      "|News       |7.2009160305343505|\n",
      "|Biography  |6.983637640449438 |\n",
      "|Game-Show  |6.975             |\n",
      "|History    |6.822718115605147 |\n",
      "|Music      |6.7520202020202005|\n",
      "|Film-Noir  |6.636246786632392 |\n",
      "|Sport      |6.600145190562612 |\n",
      "|War        |6.483807030665668 |\n",
      "|Reality-TV |6.379310344827588 |\n",
      "|Animation  |6.326203750633554 |\n",
      "|Drama      |6.288080210387902 |\n",
      "|Family     |6.250560452715202 |\n",
      "|Musical    |6.20324605451937  |\n",
      "|Romance    |6.1257141803973605|\n",
      "|Crime      |6.026013332684541 |\n",
      "|Western    |5.948970989337961 |\n",
      "|Comedy     |5.941363108004129 |\n",
      "|Mystery    |5.9404375359815775|\n",
      "+-----------+------------------+\n",
      "only showing top 20 rows"
     ]
    }
   ],
   "source": [
    "top_20_desc = spark.sql(\n",
    "'''\n",
    "SELECT genre1.genre,avg(rating.averageRating) as avg_rating\n",
    "FROM genre1\n",
    "INNER JOIN rating\n",
    "ON genre1.tconst=rating.tconst\n",
    "WHERE titleType='movie'\n",
    "GROUP BY genre1.genre\n",
    "ORDER BY avg_rating DESC\n",
    "''')\n",
    "\n",
    "top_20_desc.show(truncate=False)"
   ]
  },
  {
   "cell_type": "code",
   "execution_count": 24,
   "id": "2594600c",
   "metadata": {
    "scrolled": false
   },
   "outputs": [
    {
     "data": {
      "application/vnd.jupyter.widget-view+json": {
       "model_id": "0937406da81646d68eacbd85c501b156",
       "version_major": 2,
       "version_minor": 0
      },
      "text/plain": [
       "VBox()"
      ]
     },
     "metadata": {},
     "output_type": "display_data"
    },
    {
     "data": {
      "application/vnd.jupyter.widget-view+json": {
       "model_id": "",
       "version_major": 2,
       "version_minor": 0
      },
      "text/plain": [
       "FloatProgress(value=0.0, bar_style='info', description='Progress:', layout=Layout(height='25px', width='50%'),…"
      ]
     },
     "metadata": {},
     "output_type": "display_data"
    },
    {
     "data": {
      "image/png": "[encoded data removed]",
      "text/plain": [
       "<IPython.core.display.Image object>"
      ]
     },
     "metadata": {},
     "output_type": "display_data"
    }
   ],
   "source": [
    "top_20_df = top_20_desc.toPandas()\n",
    "top_20_df.sort_values(by='avg_rating',ascending=True).plot(\n",
    "x='genre',\n",
    "y='avg_rating',\n",
    "kind='barh',\n",
    "figsize=(12,8),\n",
    "color='orchid')\n",
    "plt.title('Top Genres in the Movie Category', fontsize=20)\n",
    "plt.xlabel(\"Average Rating\",fontsize=10)\n",
    "plt.ylabel(\"Genre\",fontsize=10)\n",
    "plt.tight_layout()\n",
    "plt.xlim(5,7.5)\n",
    "%matplot plt"
   ]
  },
  {
   "cell_type": "markdown",
   "id": "0cae0d39",
   "metadata": {},
   "source": [
    "## PART 3 - Analyzing Job Categories"
   ]
  },
  {
   "cell_type": "markdown",
   "id": "79d96276",
   "metadata": {},
   "source": [
    "## Total Unique Job Categories"
   ]
  },
  {
   "cell_type": "markdown",
   "id": "e7d31372",
   "metadata": {},
   "source": [
    "**What is the total number of unique job categories?**"
   ]
  },
  {
   "cell_type": "code",
   "execution_count": 25,
   "id": "d98a0f7e",
   "metadata": {},
   "outputs": [
    {
     "data": {
      "application/vnd.jupyter.widget-view+json": {
       "model_id": "7f5b1a1d6d5e4ba5997250179cea6543",
       "version_major": 2,
       "version_minor": 0
      },
      "text/plain": [
       "VBox()"
      ]
     },
     "metadata": {},
     "output_type": "display_data"
    },
    {
     "data": {
      "application/vnd.jupyter.widget-view+json": {
       "model_id": "",
       "version_major": 2,
       "version_minor": 0
      },
      "text/plain": [
       "FloatProgress(value=0.0, bar_style='info', description='Progress:', layout=Layout(height='25px', width='50%'),…"
      ]
     },
     "metadata": {},
     "output_type": "display_data"
    },
    {
     "name": "stdout",
     "output_type": "stream",
     "text": [
      "+---------+---------------+\n",
      "|   tconst|       category|\n",
      "+---------+---------------+\n",
      "|tt0000001|           self|\n",
      "|tt0000001|       director|\n",
      "|tt0000001|cinematographer|\n",
      "|tt0000002|       director|\n",
      "|tt0000002|       composer|\n",
      "+---------+---------------+\n",
      "only showing top 5 rows"
     ]
    }
   ],
   "source": [
    "principals.createOrReplaceTempView(\"principal\")\n",
    "category_df = spark.sql(\n",
    "'''\n",
    "SELECT tconst,category\n",
    "FROM principal\n",
    "\n",
    "''')\n",
    "category_df.show(5)"
   ]
  },
  {
   "cell_type": "code",
   "execution_count": 26,
   "id": "fca4e545",
   "metadata": {},
   "outputs": [
    {
     "data": {
      "application/vnd.jupyter.widget-view+json": {
       "model_id": "5a166a635dba41db87d860510ab3348f",
       "version_major": 2,
       "version_minor": 0
      },
      "text/plain": [
       "VBox()"
      ]
     },
     "metadata": {},
     "output_type": "display_data"
    },
    {
     "data": {
      "application/vnd.jupyter.widget-view+json": {
       "model_id": "",
       "version_major": 2,
       "version_minor": 0
      },
      "text/plain": [
       "FloatProgress(value=0.0, bar_style='info', description='Progress:', layout=Layout(height='25px', width='50%'),…"
      ]
     },
     "metadata": {},
     "output_type": "display_data"
    },
    {
     "name": "stdout",
     "output_type": "stream",
     "text": [
      "12"
     ]
    }
   ],
   "source": [
    "unique_category = spark.sql(\n",
    "'''\n",
    "SELECT distinct(category)\n",
    "FROM principal\n",
    "\n",
    "''')\n",
    "unique_category.count()"
   ]
  },
  {
   "cell_type": "markdown",
   "id": "3c19f62b",
   "metadata": {},
   "source": [
    "**What are the unique job categories available?**"
   ]
  },
  {
   "cell_type": "code",
   "execution_count": 27,
   "id": "37eadfcc",
   "metadata": {},
   "outputs": [
    {
     "data": {
      "application/vnd.jupyter.widget-view+json": {
       "model_id": "13f25bfc1c6b4fee8deb37803582e332",
       "version_major": 2,
       "version_minor": 0
      },
      "text/plain": [
       "VBox()"
      ]
     },
     "metadata": {},
     "output_type": "display_data"
    },
    {
     "data": {
      "application/vnd.jupyter.widget-view+json": {
       "model_id": "",
       "version_major": 2,
       "version_minor": 0
      },
      "text/plain": [
       "FloatProgress(value=0.0, bar_style='info', description='Progress:', layout=Layout(height='25px', width='50%'),…"
      ]
     },
     "metadata": {},
     "output_type": "display_data"
    },
    {
     "name": "stdout",
     "output_type": "stream",
     "text": [
      "+-------------------+\n",
      "|category           |\n",
      "+-------------------+\n",
      "|actress            |\n",
      "|producer           |\n",
      "|production_designer|\n",
      "|writer             |\n",
      "|actor              |\n",
      "|cinematographer    |\n",
      "|archive_sound      |\n",
      "|archive_footage    |\n",
      "|self               |\n",
      "|editor             |\n",
      "|composer           |\n",
      "|director           |\n",
      "+-------------------+"
     ]
    }
   ],
   "source": [
    "unique_category.show(truncate=False)"
   ]
  },
  {
   "cell_type": "markdown",
   "id": "59b33bb2",
   "metadata": {},
   "source": [
    "## Top Job Categories"
   ]
  },
  {
   "cell_type": "markdown",
   "id": "7f911dfc",
   "metadata": {},
   "source": [
    "Now let's find the top job categories in this dataset by rolling up categories."
   ]
  },
  {
   "cell_type": "markdown",
   "id": "1c0edd43",
   "metadata": {},
   "source": [
    "### Counts of Titles / Job Category"
   ]
  },
  {
   "cell_type": "markdown",
   "id": "001e3f3c",
   "metadata": {},
   "source": [
    "The expected output should be:\n",
    "\n",
    "| category | count |\n",
    "|-------------|------------|\n",
    "| a     | 15         |\n",
    "| b     | 2          |\n",
    "| c     | 45          |\n",
    "\n",
    "Or something to that effect."
   ]
  },
  {
   "cell_type": "code",
   "execution_count": 28,
   "id": "d6f8d689",
   "metadata": {},
   "outputs": [
    {
     "data": {
      "application/vnd.jupyter.widget-view+json": {
       "model_id": "8cd44098fb4d48798a6347ed5742dde8",
       "version_major": 2,
       "version_minor": 0
      },
      "text/plain": [
       "VBox()"
      ]
     },
     "metadata": {},
     "output_type": "display_data"
    },
    {
     "data": {
      "application/vnd.jupyter.widget-view+json": {
       "model_id": "",
       "version_major": 2,
       "version_minor": 0
      },
      "text/plain": [
       "FloatProgress(value=0.0, bar_style='info', description='Progress:', layout=Layout(height='25px', width='50%'),…"
      ]
     },
     "metadata": {},
     "output_type": "display_data"
    },
    {
     "name": "stdout",
     "output_type": "stream",
     "text": [
      "+-------------------+-------+\n",
      "|category           |count  |\n",
      "+-------------------+-------+\n",
      "|actress            |6325097|\n",
      "|producer           |2197866|\n",
      "|production_designer|285924 |\n",
      "|writer             |4811596|\n",
      "|actor              |8493701|\n",
      "|cinematographer    |1300404|\n",
      "|archive_sound      |2143   |\n",
      "|archive_footage    |209035 |\n",
      "|self               |6153089|\n",
      "|editor             |1197669|\n",
      "|composer           |1313187|\n",
      "|director           |4179106|\n",
      "+-------------------+-------+"
     ]
    }
   ],
   "source": [
    "spark.sql(\n",
    "'''\n",
    "SELECT category,COUNT(*) AS count\n",
    "FROM principal\n",
    "GROUP BY category\n",
    "''').show(truncate=False)\n"
   ]
  },
  {
   "cell_type": "markdown",
   "id": "96ce95b2",
   "metadata": {},
   "source": [
    "### Bar Chart of Top Job Categories\n",
    "\n",
    "With this data available, let us now build a barchart of the top 5 categories. \n",
    "\n",
    "**HINT**: don't forget about the matplotlib magic!\n",
    "\n",
    "```\n",
    "%matplot plt\n",
    "```"
   ]
  },
  {
   "cell_type": "code",
   "execution_count": 29,
   "id": "0af53ede",
   "metadata": {
    "scrolled": true
   },
   "outputs": [
    {
     "data": {
      "application/vnd.jupyter.widget-view+json": {
       "model_id": "d8652594745440bd9e374df86d60bb29",
       "version_major": 2,
       "version_minor": 0
      },
      "text/plain": [
       "VBox()"
      ]
     },
     "metadata": {},
     "output_type": "display_data"
    },
    {
     "data": {
      "application/vnd.jupyter.widget-view+json": {
       "model_id": "",
       "version_major": 2,
       "version_minor": 0
      },
      "text/plain": [
       "FloatProgress(value=0.0, bar_style='info', description='Progress:', layout=Layout(height='25px', width='50%'),…"
      ]
     },
     "metadata": {},
     "output_type": "display_data"
    },
    {
     "name": "stdout",
     "output_type": "stream",
     "text": [
      "+-------------------+-------+\n",
      "|category           |count  |\n",
      "+-------------------+-------+\n",
      "|actor              |8493701|\n",
      "|actress            |6325097|\n",
      "|self               |6153089|\n",
      "|writer             |4811596|\n",
      "|director           |4179106|\n",
      "|producer           |2197866|\n",
      "|composer           |1313187|\n",
      "|cinematographer    |1300404|\n",
      "|editor             |1197669|\n",
      "|production_designer|285924 |\n",
      "|archive_footage    |209035 |\n",
      "|archive_sound      |2143   |\n",
      "+-------------------+-------+"
     ]
    }
   ],
   "source": [
    "spark.sql(\n",
    "'''\n",
    "SELECT category,COUNT(*) AS count\n",
    "FROM principal\n",
    "GROUP BY category\n",
    "ORDER BY count DESC\n",
    "''').show(truncate=False)\n"
   ]
  },
  {
   "cell_type": "code",
   "execution_count": 30,
   "id": "2cb8ad87",
   "metadata": {
    "scrolled": false
   },
   "outputs": [
    {
     "data": {
      "application/vnd.jupyter.widget-view+json": {
       "model_id": "9baadca9ce784dbd91e6c0dda384a367",
       "version_major": 2,
       "version_minor": 0
      },
      "text/plain": [
       "VBox()"
      ]
     },
     "metadata": {},
     "output_type": "display_data"
    },
    {
     "data": {
      "application/vnd.jupyter.widget-view+json": {
       "model_id": "",
       "version_major": 2,
       "version_minor": 0
      },
      "text/plain": [
       "FloatProgress(value=0.0, bar_style='info', description='Progress:', layout=Layout(height='25px', width='50%'),…"
      ]
     },
     "metadata": {},
     "output_type": "display_data"
    },
    {
     "data": {
      "image/png": "[encoded data removed]",
      "text/plain": [
       "<IPython.core.display.Image object>"
      ]
     },
     "metadata": {},
     "output_type": "display_data"
    }
   ],
   "source": [
    "top5Job=spark.sql(\n",
    "'''\n",
    "SELECT category,COUNT(*) AS count\n",
    "FROM principal\n",
    "GROUP BY category\n",
    "order by count DESC\n",
    "limit 5\n",
    "''')\n",
    "top5Job_df=top5Job.toPandas()\n",
    "top5Job_df.plot.bar(x='category',title='Top Job Categories',color='orange')\n",
    "plt.xlabel(\"Job Categories\",fontsize=10)\n",
    "plt.ylabel(\"Count\",fontsize=10)\n",
    "plt.xticks(rotation=10, horizontalalignment=\"center\")\n",
    "%matplot plt"
   ]
  },
  {
   "cell_type": "markdown",
   "id": "c5a31583",
   "metadata": {},
   "source": [
    "# PART 4 - Answer to the following questions:"
   ]
  },
  {
   "cell_type": "markdown",
   "id": "76917365",
   "metadata": {},
   "source": [
    "## 1) Find all the \"movies\" featuring \"Johnny Depp\" and \"Helena Bonham Carter\"."
   ]
  },
  {
   "cell_type": "markdown",
   "id": "c4600ef2",
   "metadata": {},
   "source": [
    "First join actors, genres, and movie actors on each other"
   ]
  },
  {
   "cell_type": "code",
   "execution_count": 31,
   "id": "6b51061b",
   "metadata": {},
   "outputs": [
    {
     "data": {
      "application/vnd.jupyter.widget-view+json": {
       "model_id": "025e9168ce0048628a93f141bb4b4aa5",
       "version_major": 2,
       "version_minor": 0
      },
      "text/plain": [
       "VBox()"
      ]
     },
     "metadata": {},
     "output_type": "display_data"
    },
    {
     "data": {
      "application/vnd.jupyter.widget-view+json": {
       "model_id": "",
       "version_major": 2,
       "version_minor": 0
      },
      "text/plain": [
       "FloatProgress(value=0.0, bar_style='info', description='Progress:', layout=Layout(height='25px', width='50%'),…"
      ]
     },
     "metadata": {},
     "output_type": "display_data"
    },
    {
     "name": "stdout",
     "output_type": "stream",
     "text": [
      "+----------------------------------------------+\n",
      "|PrimaryTitle                                  |\n",
      "+----------------------------------------------+\n",
      "|Dark Shadows                                  |\n",
      "|Sweeney Todd: The Demon Barber of Fleet Street|\n",
      "|Alice Through the Looking Glass               |\n",
      "|Alice in Wonderland                           |\n",
      "|Charlie and the Chocolate Factory             |\n",
      "|Corpse Bride                                  |\n",
      "+----------------------------------------------+"
     ]
    }
   ],
   "source": [
    "without=basics.select('tconst','titleType','genres','startYear','PrimaryTitle')\n",
    "without=without.filter(without.genres != \"\\\\N\")\n",
    "without=without.filter(without.startYear != \"\\\\N\")\n",
    "without.createOrReplaceTempView(\"without\")\n",
    "actors.createOrReplaceTempView(\"actor\")\n",
    "\n",
    "sql=spark.sql(\n",
    "'''\n",
    "SELECT b.PrimaryTitle, b.titleType,a.primaryName,a.nconst,p.tconst\n",
    "FROM without as b\n",
    "inner join principal as p\n",
    "on b.tconst=p.tconst\n",
    "inner join actor as a\n",
    "on a.nconst=p.nconst\n",
    "WHERE b.titleType='movie' and a.primaryName='Helena Bonham Carter'                     \n",
    "''')\n",
    "\n",
    "sql2=spark.sql(\n",
    "'''\n",
    "SELECT b.PrimaryTitle, b.titleType,a.primaryName,a.nconst,p.tconst\n",
    "FROM without as b\n",
    "inner join principal as p\n",
    "on b.tconst=p.tconst\n",
    "inner join actor as a\n",
    "on a.nconst=p.nconst\n",
    "WHERE b.titleType='movie' and a.primaryName='Johnny Depp'                     \n",
    "''')\n",
    "sql.createOrReplaceTempView(\"sql\")\n",
    "sql2.createOrReplaceTempView(\"sql2\")\n",
    "spark.sql(\n",
    "'''\n",
    "SELECT s.PrimaryTitle\n",
    "FROM sql as s\n",
    "inner join sql2\n",
    "on s.tconst=sql2.tconst\n",
    "               \n",
    "''').show(truncate=False)"
   ]
  },
  {
   "cell_type": "markdown",
   "id": "39452206",
   "metadata": {},
   "source": [
    "## 2) Find all the \"movies\" featuring \"Brad Pitt\" after 2010."
   ]
  },
  {
   "cell_type": "code",
   "execution_count": 32,
   "id": "c536eb48",
   "metadata": {},
   "outputs": [
    {
     "data": {
      "application/vnd.jupyter.widget-view+json": {
       "model_id": "352db9e24d234877bf78ee3e31fa89d4",
       "version_major": 2,
       "version_minor": 0
      },
      "text/plain": [
       "VBox()"
      ]
     },
     "metadata": {},
     "output_type": "display_data"
    },
    {
     "data": {
      "application/vnd.jupyter.widget-view+json": {
       "model_id": "",
       "version_major": 2,
       "version_minor": 0
      },
      "text/plain": [
       "FloatProgress(value=0.0, bar_style='info', description='Progress:', layout=Layout(height='25px', width='50%'),…"
      ]
     },
     "metadata": {},
     "output_type": "display_data"
    },
    {
     "name": "stdout",
     "output_type": "stream",
     "text": [
      "+---------------------------------+---------+\n",
      "|primaryTitle                     |startYear|\n",
      "+---------------------------------+---------+\n",
      "|Babylon                          |2021     |\n",
      "|Irresistible                     |2020     |\n",
      "|Kajillionaire                    |2020     |\n",
      "|Ad Astra                         |2019     |\n",
      "|Once Upon a Time ... in Hollywood|2019     |\n",
      "|The King                         |2019     |\n",
      "|Vice                             |2018     |\n",
      "|War Machine                      |2017     |\n",
      "|Voyage of Time: Life's Journey   |2016     |\n",
      "|Allied                           |2016     |\n",
      "|By the Sea                       |2015     |\n",
      "|Hitting the Apex                 |2015     |\n",
      "|The Big Short                    |2015     |\n",
      "|Fury                             |2014     |\n",
      "|Kick-Ass 2                       |2013     |\n",
      "|World War Z                      |2013     |\n",
      "|12 Years a Slave                 |2013     |\n",
      "|Killing Them Softly              |2012     |\n",
      "|The Tree of Life                 |2011     |\n",
      "|Moneyball                        |2011     |\n",
      "+---------------------------------+---------+"
     ]
    }
   ],
   "source": [
    "spark.sql(\n",
    "'''\n",
    "SELECT b.primaryTitle,b.startYear\n",
    "FROM basic as b\n",
    "inner join principal as p\n",
    "on b.tconst=p.tconst\n",
    "inner join actor as a\n",
    "on a.nconst=p.nconst\n",
    "WHERE a.primaryName=\"Brad Pitt\" and b.startYear>2010 and b.titleType='movie' \n",
    "ORDER BY b.startYear DESC\n",
    "''').show(truncate=False)\n",
    "\n"
   ]
  },
  {
   "cell_type": "markdown",
   "id": "67fc41d2",
   "metadata": {},
   "source": [
    "## 3) What is the number of \"movies\" \"acted\" by \"Zendaya\" per year?"
   ]
  },
  {
   "cell_type": "code",
   "execution_count": 33,
   "id": "c605ce7b",
   "metadata": {},
   "outputs": [
    {
     "data": {
      "application/vnd.jupyter.widget-view+json": {
       "model_id": "6aa03d3485d742b095c518f682968ef5",
       "version_major": 2,
       "version_minor": 0
      },
      "text/plain": [
       "VBox()"
      ]
     },
     "metadata": {},
     "output_type": "display_data"
    },
    {
     "data": {
      "application/vnd.jupyter.widget-view+json": {
       "model_id": "",
       "version_major": 2,
       "version_minor": 0
      },
      "text/plain": [
       "FloatProgress(value=0.0, bar_style='info', description='Progress:', layout=Layout(height='25px', width='50%'),…"
      ]
     },
     "metadata": {},
     "output_type": "display_data"
    },
    {
     "name": "stdout",
     "output_type": "stream",
     "text": [
      "+---------+-----+\n",
      "|startYear|count|\n",
      "+---------+-----+\n",
      "|2020     |1    |\n",
      "|2018     |2    |\n",
      "|2017     |1    |\n",
      "+---------+-----+"
     ]
    }
   ],
   "source": [
    "spark.sql(\n",
    "'''\n",
    "SELECT b.startYear,count(b.tconst) as count\n",
    "FROM without as b\n",
    "inner join principal as p\n",
    "on b.tconst=p.tconst\n",
    "inner join actor as a\n",
    "on a.nconst=p.nconst\n",
    "WHERE a.primaryName=\"Zendaya\" and b.titleType='movie' \n",
    "Group by b.startYear                          \n",
    "''').show(truncate=False)"
   ]
  },
  {
   "cell_type": "markdown",
   "id": "b3fe5091",
   "metadata": {},
   "source": [
    "## 4) What are the \"movies\" by average rating greater than \"9.7\" and released in \"2019\"?"
   ]
  },
  {
   "cell_type": "code",
   "execution_count": 34,
   "id": "366703ab",
   "metadata": {},
   "outputs": [
    {
     "data": {
      "application/vnd.jupyter.widget-view+json": {
       "model_id": "c3a57fa21c42408cb6a62fdbb0832b13",
       "version_major": 2,
       "version_minor": 0
      },
      "text/plain": [
       "VBox()"
      ]
     },
     "metadata": {},
     "output_type": "display_data"
    },
    {
     "data": {
      "application/vnd.jupyter.widget-view+json": {
       "model_id": "",
       "version_major": 2,
       "version_minor": 0
      },
      "text/plain": [
       "FloatProgress(value=0.0, bar_style='info', description='Progress:', layout=Layout(height='25px', width='50%'),…"
      ]
     },
     "metadata": {},
     "output_type": "display_data"
    },
    {
     "name": "stdout",
     "output_type": "stream",
     "text": [
      "+-------------------------------------------------+-------------+\n",
      "|PrimaryTitle                                     |averageRating|\n",
      "+-------------------------------------------------+-------------+\n",
      "|A Grunt's Life                                   |10.0         |\n",
      "|Kirket                                           |10.0         |\n",
      "|Bu Can Var Oldugu Sürece                         |10.0         |\n",
      "|L'Enfant Terrible                                |10.0         |\n",
      "|The Butcher Baronet                              |10.0         |\n",
      "|A Medicine for the Mind                          |10.0         |\n",
      "|Our Scripted Life                                |10.0         |\n",
      "|The Twilight Zone: A 60th Anniversary Celebration|10.0         |\n",
      "|Love in Kilnerry                                 |10.0         |\n",
      "|Kamen Rider Zi-O: Over Quartzer                  |9.8          |\n",
      "|Gini Helida Kathe                                |9.8          |\n",
      "|Time and motion                                  |9.8          |\n",
      "|Square One                                       |9.8          |\n",
      "|Randhawa                                         |9.8          |\n",
      "|We Shall Not Die Now                             |9.8          |\n",
      "|From Shock to Awe                                |9.8          |\n",
      "|Superhombre                                      |9.9          |\n",
      "|The Cardinal                                     |9.9          |\n",
      "|Puritan: All of Life to The Glory of God         |9.9          |\n",
      "+-------------------------------------------------+-------------+"
     ]
    }
   ],
   "source": [
    "spark.sql(\n",
    "'''\n",
    "SELECT b.PrimaryTitle,averageRating\n",
    "FROM without as b\n",
    "inner join rating as r\n",
    "on b.tconst=r.tconst\n",
    "WHERE r.averageRating>9.7 and b.startYear='2019' and b.titleType='movie'\n",
    "ORDER BY averageRating asc\n",
    "\n",
    "''').show(truncate=False)"
   ]
  },
  {
   "cell_type": "markdown",
   "id": "a33b20a6",
   "metadata": {},
   "source": [
    "## Extra Credit - Analysis of your choice\n",
    "\n",
    "Try and analyze some interesting dimension to this data. You should specify the question in your Project2_Analysis.ipynb. \n",
    "\n",
    "You must join at least two datasets.\n"
   ]
  },
  {
   "cell_type": "markdown",
   "id": "5e471113",
   "metadata": {},
   "source": [
    "# 5) What are the Top 5 \"movies\" by numvotes greater than 1.5 million and average rating greater than 8.5?"
   ]
  },
  {
   "cell_type": "code",
   "execution_count": 35,
   "id": "04cca684",
   "metadata": {},
   "outputs": [
    {
     "data": {
      "application/vnd.jupyter.widget-view+json": {
       "model_id": "cb1c09fa42fc4ff38107ec73c6c47bb3",
       "version_major": 2,
       "version_minor": 0
      },
      "text/plain": [
       "VBox()"
      ]
     },
     "metadata": {},
     "output_type": "display_data"
    },
    {
     "data": {
      "application/vnd.jupyter.widget-view+json": {
       "model_id": "",
       "version_major": 2,
       "version_minor": 0
      },
      "text/plain": [
       "FloatProgress(value=0.0, bar_style='info', description='Progress:', layout=Layout(height='25px', width='50%'),…"
      ]
     },
     "metadata": {},
     "output_type": "display_data"
    },
    {
     "name": "stdout",
     "output_type": "stream",
     "text": [
      "root\n",
      " |-- tconst: string (nullable = true)\n",
      " |-- averageRating: float (nullable = true)\n",
      " |-- numvotes: integer (nullable = true)"
     ]
    }
   ],
   "source": [
    "#change data type first\n",
    "rating_df = ratings.withColumn(\"numvotes\", col(\"numvotes\").cast(\"Integer\"))\n",
    "rating_df = rating_df.withColumn(\"averageRating\", col(\"averageRating\").cast(\"Float\"))\n",
    "rating_df.createOrReplaceTempView(\"rating_df\")\n",
    "rating_df.printSchema()"
   ]
  },
  {
   "cell_type": "code",
   "execution_count": 36,
   "id": "58678132",
   "metadata": {
    "scrolled": true,
    "vscode": {
     "languageId": "plaintext"
    }
   },
   "outputs": [
    {
     "data": {
      "application/vnd.jupyter.widget-view+json": {
       "model_id": "2329dee52bb7492797d6021bacc8a54b",
       "version_major": 2,
       "version_minor": 0
      },
      "text/plain": [
       "VBox()"
      ]
     },
     "metadata": {},
     "output_type": "display_data"
    },
    {
     "data": {
      "application/vnd.jupyter.widget-view+json": {
       "model_id": "",
       "version_major": 2,
       "version_minor": 0
      },
      "text/plain": [
       "FloatProgress(value=0.0, bar_style='info', description='Progress:', layout=Layout(height='25px', width='50%'),…"
      ]
     },
     "metadata": {},
     "output_type": "display_data"
    },
    {
     "name": "stdout",
     "output_type": "stream",
     "text": [
      "+------------------------+--------+-------------+\n",
      "|PrimaryTitle            |numvotes|averageRating|\n",
      "+------------------------+--------+-------------+\n",
      "|The Shawshank Redemption|2159745 |9.3          |\n",
      "|The Dark Knight         |2134602 |9.0          |\n",
      "|Inception               |1892958 |8.8          |\n",
      "|Fight Club              |1725444 |8.8          |\n",
      "|Pulp Fiction            |1695159 |8.9          |\n",
      "+------------------------+--------+-------------+"
     ]
    }
   ],
   "source": [
    "spark.sql(\n",
    "'''\n",
    "SELECT b.PrimaryTitle,r.numvotes,r.averageRating\n",
    "FROM without as b\n",
    "inner join rating_df as r\n",
    "on b.tconst=r.tconst\n",
    "WHERE r.numvotes>1500000 and r.averageRating>8.5 and b.titleType='movie'\n",
    "order by numvotes desc\n",
    "Limit 5\n",
    "''').show(truncate=False)"
   ]
  },
  {
   "cell_type": "markdown",
   "id": "61e7a0ec",
   "metadata": {},
   "source": [
    "# 6) How many movies have been released per year since 2000?"
   ]
  },
  {
   "cell_type": "code",
   "execution_count": 37,
   "id": "80b7cd1c",
   "metadata": {},
   "outputs": [
    {
     "data": {
      "application/vnd.jupyter.widget-view+json": {
       "model_id": "c98e82b0d0a24dc6bf422b2baf09f2af",
       "version_major": 2,
       "version_minor": 0
      },
      "text/plain": [
       "VBox()"
      ]
     },
     "metadata": {},
     "output_type": "display_data"
    },
    {
     "data": {
      "application/vnd.jupyter.widget-view+json": {
       "model_id": "",
       "version_major": 2,
       "version_minor": 0
      },
      "text/plain": [
       "FloatProgress(value=0.0, bar_style='info', description='Progress:', layout=Layout(height='25px', width='50%'),…"
      ]
     },
     "metadata": {},
     "output_type": "display_data"
    },
    {
     "name": "stdout",
     "output_type": "stream",
     "text": [
      "+---------+-----+\n",
      "|startYear|Total|\n",
      "+---------+-----+\n",
      "|2000     |2880 |\n",
      "|2001     |3079 |\n",
      "|2002     |3276 |\n",
      "|2003     |3490 |\n",
      "|2004     |3912 |\n",
      "|2005     |4385 |\n",
      "|2006     |4862 |\n",
      "|2007     |5080 |\n",
      "|2008     |5727 |\n",
      "|2009     |6504 |\n",
      "|2010     |6769 |\n",
      "|2011     |7336 |\n",
      "|2012     |7660 |\n",
      "|2013     |7977 |\n",
      "|2014     |8382 |\n",
      "|2015     |8534 |\n",
      "|2016     |8777 |\n",
      "|2017     |8893 |\n",
      "|2018     |8182 |\n",
      "|2019     |5371 |\n",
      "+---------+-----+"
     ]
    }
   ],
   "source": [
    "movies_peryear=spark.sql(\n",
    "'''\n",
    "SELECT startYear,count(b.tconst) as Total\n",
    "FROM without as b\n",
    "inner join rating_df as r\n",
    "on b.tconst=r.tconst\n",
    "WHERE b.titleType='movie' and startYear>=2000 and startYear<=2019\n",
    "GROUP BY startYear\n",
    "Order by startYear asc\n",
    "''')\n",
    "movies_peryear.show(truncate=False)\n"
   ]
  },
  {
   "cell_type": "code",
   "execution_count": 38,
   "id": "24e1bdf9",
   "metadata": {},
   "outputs": [
    {
     "data": {
      "application/vnd.jupyter.widget-view+json": {
       "model_id": "201951b242ca4aafa4dbe3b0359f7058",
       "version_major": 2,
       "version_minor": 0
      },
      "text/plain": [
       "VBox()"
      ]
     },
     "metadata": {},
     "output_type": "display_data"
    },
    {
     "data": {
      "application/vnd.jupyter.widget-view+json": {
       "model_id": "",
       "version_major": 2,
       "version_minor": 0
      },
      "text/plain": [
       "FloatProgress(value=0.0, bar_style='info', description='Progress:', layout=Layout(height='25px', width='50%'),…"
      ]
     },
     "metadata": {},
     "output_type": "display_data"
    },
    {
     "data": {
      "image/png": "[encoded data removed]",
      "text/plain": [
       "<IPython.core.display.Image object>"
      ]
     },
     "metadata": {},
     "output_type": "display_data"
    }
   ],
   "source": [
    "movies_peryear = movies_peryear.toPandas()\n",
    "movies_peryear.plot.line(x=\"startYear\", y=\"Total\")\n",
    "%matplot plt"
   ]
  },
  {
   "cell_type": "markdown",
   "id": "174c6f5e",
   "metadata": {},
   "source": [
    "# 7) What is the average number of votes per year since 2000?"
   ]
  },
  {
   "cell_type": "code",
   "execution_count": 39,
   "id": "b350a474",
   "metadata": {
    "scrolled": true
   },
   "outputs": [
    {
     "data": {
      "application/vnd.jupyter.widget-view+json": {
       "model_id": "deda915169eb46fbb13dc2e3d6f9ab8c",
       "version_major": 2,
       "version_minor": 0
      },
      "text/plain": [
       "VBox()"
      ]
     },
     "metadata": {},
     "output_type": "display_data"
    },
    {
     "data": {
      "application/vnd.jupyter.widget-view+json": {
       "model_id": "",
       "version_major": 2,
       "version_minor": 0
      },
      "text/plain": [
       "FloatProgress(value=0.0, bar_style='info', description='Progress:', layout=Layout(height='25px', width='50%'),…"
      ]
     },
     "metadata": {},
     "output_type": "display_data"
    },
    {
     "name": "stdout",
     "output_type": "stream",
     "text": [
      "+---------+------------------+\n",
      "|startYear|avg_num_of_votes  |\n",
      "+---------+------------------+\n",
      "|2000     |6299.577083333334 |\n",
      "|2001     |7027.099058135758 |\n",
      "|2002     |6685.843101343101 |\n",
      "|2003     |6429.0555873925505|\n",
      "|2004     |6878.109151329243 |\n",
      "|2005     |5559.932269099202 |\n",
      "|2006     |5706.264294529001 |\n",
      "|2007     |5800.278937007874 |\n",
      "|2008     |5443.445433909551 |\n",
      "|2009     |4614.460793357934 |\n",
      "|2010     |4596.446890234894 |\n",
      "|2011     |4548.010496183206 |\n",
      "|2012     |4353.268276762402 |\n",
      "|2013     |4566.240315908236 |\n",
      "|2014     |4210.141016463851 |\n",
      "|2015     |3163.5385516756505|\n",
      "|2016     |3158.0945653412327|\n",
      "|2017     |2631.9877431687846|\n",
      "|2018     |2327.9615008555365|\n",
      "|2019     |1646.7909141686837|\n",
      "+---------+------------------+"
     ]
    }
   ],
   "source": [
    "avg_vote_peryear=spark.sql(\n",
    "'''\n",
    "SELECT startYear,avg(numvotes) as avg_num_of_votes\n",
    "FROM without as b\n",
    "inner join rating_df as r\n",
    "on b.tconst=r.tconst\n",
    "WHERE b.titleType='movie' and startYear>=2000 and startYear<=2019\n",
    "GROUP BY startYear\n",
    "Order by startYear ASC\n",
    "''')\n",
    "avg_vote_peryear.show(truncate=False)"
   ]
  },
  {
   "cell_type": "code",
   "execution_count": 40,
   "id": "dc444210",
   "metadata": {},
   "outputs": [
    {
     "data": {
      "application/vnd.jupyter.widget-view+json": {
       "model_id": "861976ada8a44f5c97bc6cce3f8c7718",
       "version_major": 2,
       "version_minor": 0
      },
      "text/plain": [
       "VBox()"
      ]
     },
     "metadata": {},
     "output_type": "display_data"
    },
    {
     "data": {
      "application/vnd.jupyter.widget-view+json": {
       "model_id": "",
       "version_major": 2,
       "version_minor": 0
      },
      "text/plain": [
       "FloatProgress(value=0.0, bar_style='info', description='Progress:', layout=Layout(height='25px', width='50%'),…"
      ]
     },
     "metadata": {},
     "output_type": "display_data"
    },
    {
     "data": {
      "image/png": "[encoded data removed]",
      "text/plain": [
       "<IPython.core.display.Image object>"
      ]
     },
     "metadata": {},
     "output_type": "display_data"
    }
   ],
   "source": [
    "avg_vote_peryear = avg_vote_peryear.toPandas()\n",
    "avg_vote_peryear.plot.line(x=\"startYear\", y=\"avg_num_of_votes\")\n",
    "%matplot plt"
   ]
  },
  {
   "cell_type": "markdown",
   "id": "f12e505f",
   "metadata": {},
   "source": [
    "# 8) What is the average rating of votes per year since 2000?"
   ]
  },
  {
   "cell_type": "code",
   "execution_count": 41,
   "id": "5157ff74",
   "metadata": {},
   "outputs": [
    {
     "data": {
      "application/vnd.jupyter.widget-view+json": {
       "model_id": "ede049c4f6dc4a85845d6c66eaef8c66",
       "version_major": 2,
       "version_minor": 0
      },
      "text/plain": [
       "VBox()"
      ]
     },
     "metadata": {},
     "output_type": "display_data"
    },
    {
     "data": {
      "application/vnd.jupyter.widget-view+json": {
       "model_id": "",
       "version_major": 2,
       "version_minor": 0
      },
      "text/plain": [
       "FloatProgress(value=0.0, bar_style='info', description='Progress:', layout=Layout(height='25px', width='50%'),…"
      ]
     },
     "metadata": {},
     "output_type": "display_data"
    },
    {
     "name": "stdout",
     "output_type": "stream",
     "text": [
      "+---------+------------------+\n",
      "|startYear|avg_rating        |\n",
      "+---------+------------------+\n",
      "|2000     |6.034722218869461 |\n",
      "|2001     |6.093894123566464 |\n",
      "|2002     |6.135195361534463 |\n",
      "|2003     |6.133094557240221 |\n",
      "|2004     |6.215388550074554 |\n",
      "|2005     |6.22159635264898  |\n",
      "|2006     |6.176593996060331 |\n",
      "|2007     |6.220413389238786 |\n",
      "|2008     |6.2001571516435305|\n",
      "|2009     |6.209578724951468 |\n",
      "|2010     |6.226384990217767 |\n",
      "|2011     |6.264462923616853 |\n",
      "|2012     |6.274138384746198 |\n",
      "|2013     |6.255120974070031 |\n",
      "|2014     |6.280505848425836 |\n",
      "|2015     |6.234614484645959 |\n",
      "|2016     |6.300284838260843 |\n",
      "|2017     |6.341515799146743 |\n",
      "|2018     |6.251723297313675 |\n",
      "|2019     |6.4932787226822715|\n",
      "+---------+------------------+"
     ]
    }
   ],
   "source": [
    "average_rating_peryear=spark.sql(\n",
    "'''\n",
    "SELECT startYear,avg(averageRating) as avg_rating\n",
    "FROM without as b\n",
    "inner join rating_df as r\n",
    "on b.tconst=r.tconst\n",
    "WHERE b.titleType='movie'and startYear>=2000 and startYear<=2019\n",
    "GROUP BY startYear\n",
    "Order by startYear asc\n",
    "''')\n",
    "average_rating_peryear.show(truncate=False)"
   ]
  },
  {
   "cell_type": "code",
   "execution_count": 42,
   "id": "5a52c0bf",
   "metadata": {},
   "outputs": [
    {
     "data": {
      "application/vnd.jupyter.widget-view+json": {
       "model_id": "60822eb1f30545b9b9acf3f580137221",
       "version_major": 2,
       "version_minor": 0
      },
      "text/plain": [
       "VBox()"
      ]
     },
     "metadata": {},
     "output_type": "display_data"
    },
    {
     "data": {
      "application/vnd.jupyter.widget-view+json": {
       "model_id": "",
       "version_major": 2,
       "version_minor": 0
      },
      "text/plain": [
       "FloatProgress(value=0.0, bar_style='info', description='Progress:', layout=Layout(height='25px', width='50%'),…"
      ]
     },
     "metadata": {},
     "output_type": "display_data"
    },
    {
     "data": {
      "image/png": "[encoded data removed]",
      "text/plain": [
       "<IPython.core.display.Image object>"
      ]
     },
     "metadata": {},
     "output_type": "display_data"
    }
   ],
   "source": [
    "average_rating_peryear = average_rating_peryear.toPandas()\n",
    "average_rating_peryear.plot.line(x=\"startYear\", y=\"avg_rating\")\n",
    "%matplot plt"
   ]
  },
  {
   "cell_type": "markdown",
   "id": "19395e2b",
   "metadata": {},
   "source": [
    "# 9) What are the top 20 good movies in 2019?\n",
    "(I define good by the movie’s  average rating is greater than 2019 overall average rating and the movie's number of votes is greater than 2019 overall average number of votes  )"
   ]
  },
  {
   "cell_type": "code",
   "execution_count": 43,
   "id": "e8401c4d",
   "metadata": {},
   "outputs": [
    {
     "data": {
      "application/vnd.jupyter.widget-view+json": {
       "model_id": "09f0b2432cac4c66a55440aaa79e224d",
       "version_major": 2,
       "version_minor": 0
      },
      "text/plain": [
       "VBox()"
      ]
     },
     "metadata": {},
     "output_type": "display_data"
    },
    {
     "data": {
      "application/vnd.jupyter.widget-view+json": {
       "model_id": "",
       "version_major": 2,
       "version_minor": 0
      },
      "text/plain": [
       "FloatProgress(value=0.0, bar_style='info', description='Progress:', layout=Layout(height='25px', width='50%'),…"
      ]
     },
     "metadata": {},
     "output_type": "display_data"
    },
    {
     "name": "stdout",
     "output_type": "stream",
     "text": [
      "+--------------------+-------------+--------+\n",
      "|        PrimaryTitle|averageRating|numvotes|\n",
      "+--------------------+-------------+--------+\n",
      "|    Love in Kilnerry|         10.0|    2360|\n",
      "|                Zana|          9.4|    3932|\n",
      "|               Mosul|          9.1|    2643|\n",
      "|         Little Baby|          9.0|    3987|\n",
      "|              Kaithi|          8.9|    3076|\n",
      "|      Saand Ki Aankh|          8.9|    1960|\n",
      "|               Joker|          8.8|  466912|\n",
      "|              Asuran|          8.8|    3918|\n",
      "| The Blue Elephant 2|          8.8|    3819|\n",
      "|        The Irishman|          8.7|    8992|\n",
      "|              Jersey|          8.7|    3991|\n",
      "|            Parasite|          8.6|   73962|\n",
      "|   Kumbalangi Nights|          8.6|    4138|\n",
      "|Agent Sai Sriniva...|          8.6|    3084|\n",
      "|         Tell No One|          8.6|    2325|\n",
      "|   Avengers: Endgame|          8.5|  602740|\n",
      "|               Klaus|          8.5|    4490|\n",
      "|Uri: The Surgical...|          8.4|   35278|\n",
      "|        Super Deluxe|          8.4|    4535|\n",
      "|    Nerkonda Paarvai|          8.4|    4405|\n",
      "+--------------------+-------------+--------+\n",
      "only showing top 20 rows"
     ]
    }
   ],
   "source": [
    "spark.sql(\n",
    "'''\n",
    "SELECT PrimaryTitle,averageRating,numvotes\n",
    "FROM without as b\n",
    "inner join rating_df as r\n",
    "on b.tconst=r.tconst\n",
    "WHERE b.titleType='movie'\n",
    "and startYear=2019 \n",
    "and  averageRating>(SELECT avg(averageRating) \n",
    "FROM without as b\n",
    "inner join rating_df as r\n",
    "on b.tconst=r.tconst\n",
    "WHERE b.titleType='movie'and startYear=2019\n",
    " ) \n",
    "and numvotes>(SELECT avg(numvotes) \n",
    "FROM without as b\n",
    "inner join rating_df as r\n",
    "on b.tconst=r.tconst\n",
    "WHERE b.titleType='movie'and startYear=2019)\n",
    "ORDER BY averageRating desc,numvotes desc\n",
    "\n",
    "''').show()"
   ]
  }
 ],
 "metadata": {
  "kernelspec": {
   "display_name": "PySpark",
   "language": "",
   "name": "pysparkkernel"
  },
  "language_info": {
   "codemirror_mode": {
    "name": "python",
    "version": 2
   },
   "mimetype": "text/x-python",
   "name": "pyspark",
   "pygments_lexer": "python2"
  },
  "toc": {
   "base_numbering": 1,
   "nav_menu": {},
   "number_sections": true,
   "sideBar": true,
   "skip_h1_title": false,
   "title_cell": "Table of Contents",
   "title_sidebar": "Contents",
   "toc_cell": false,
   "toc_position": {},
   "toc_section_display": true,
   "toc_window_display": false
  }
 },
 "nbformat": 4,
 "nbformat_minor": 5
}
